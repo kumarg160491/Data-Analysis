{
 "cells":[
  {
   "cell_type":"code",
   "source":[
    "# Loading Libraries\n",
    "import pandas as pd\n",
    "import numpy as np\n",
    "import seaborn as sns\n",
    "import matplotlib.pyplot as plt\n",
    "import warnings\n",
    "warnings.filterwarnings('ignore')"
   ],
   "execution_count":81,
   "outputs":[
    
   ],
   "metadata":{
    "datalore":{
     "type":"CODE",
     "hide_input_from_viewers":false,
     "hide_output_from_viewers":false,
     "node_id":"mpfHoTVvsO1YtoI3Efmtks"
    }
   }
  },
  {
   "cell_type":"code",
   "source":[
    "df = pd.read_csv('zomato.csv', encoding='latin-1')"
   ],
   "execution_count":23,
   "outputs":[
    
   ],
   "metadata":{
    "datalore":{
     "type":"CODE",
     "hide_input_from_viewers":false,
     "hide_output_from_viewers":false,
     "node_id":"BtdJht8vXFh3qph1H90opD"
    }
   }
  },
  {
   "cell_type":"code",
   "source":[
    "df.shape"
   ],
   "execution_count":40,
   "outputs":[
    {
     "data":{
      "text\/plain":[
       "(9551, 21)"
      ]
     },
     "metadata":{
      
     },
     "output_type":"display_data"
    }
   ],
   "metadata":{
    "datalore":{
     "type":"CODE",
     "hide_input_from_viewers":false,
     "hide_output_from_viewers":false,
     "node_id":"GPs3uk9cX5sdJCUtbZC8do"
    }
   }
  },
  {
   "cell_type":"code",
   "source":[
    "df.head()"
   ],
   "execution_count":39,
   "outputs":[
    {
     "data":{
      "text\/html":[
       "<div>\n",
       "<style scoped>\n",
       "    .dataframe tbody tr th:only-of-type {\n",
       "        vertical-align: middle;\n",
       "    }\n",
       "\n",
       "    .dataframe tbody tr th {\n",
       "        vertical-align: top;\n",
       "    }\n",
       "\n",
       "    .dataframe thead th {\n",
       "        text-align: right;\n",
       "    }\n",
       "<\/style>\n",
       "<table border=\"1\" class=\"dataframe\">\n",
       "  <thead>\n",
       "    <tr style=\"text-align: right;\">\n",
       "      <th><\/th>\n",
       "      <th>Restaurant ID<\/th>\n",
       "      <th>Restaurant Name<\/th>\n",
       "      <th>Country Code<\/th>\n",
       "      <th>City<\/th>\n",
       "      <th>Address<\/th>\n",
       "      <th>Locality<\/th>\n",
       "      <th>Locality Verbose<\/th>\n",
       "      <th>Longitude<\/th>\n",
       "      <th>Latitude<\/th>\n",
       "      <th>Cuisines<\/th>\n",
       "      <th>...<\/th>\n",
       "      <th>Currency<\/th>\n",
       "      <th>Has Table booking<\/th>\n",
       "      <th>Has Online delivery<\/th>\n",
       "      <th>Is delivering now<\/th>\n",
       "      <th>Switch to order menu<\/th>\n",
       "      <th>Price range<\/th>\n",
       "      <th>Aggregate rating<\/th>\n",
       "      <th>Rating color<\/th>\n",
       "      <th>Rating text<\/th>\n",
       "      <th>Votes<\/th>\n",
       "    <\/tr>\n",
       "  <\/thead>\n",
       "  <tbody>\n",
       "    <tr>\n",
       "      <th>0<\/th>\n",
       "      <td>6317637<\/td>\n",
       "      <td>Le Petit Souffle<\/td>\n",
       "      <td>162<\/td>\n",
       "      <td>Makati City<\/td>\n",
       "      <td>Third Floor, Century City Mall, Kalayaan Avenu...<\/td>\n",
       "      <td>Century City Mall, Poblacion, Makati City<\/td>\n",
       "      <td>Century City Mall, Poblacion, Makati City, Mak...<\/td>\n",
       "      <td>121.027535<\/td>\n",
       "      <td>14.565443<\/td>\n",
       "      <td>French, Japanese, Desserts<\/td>\n",
       "      <td>...<\/td>\n",
       "      <td>Botswana Pula(P)<\/td>\n",
       "      <td>Yes<\/td>\n",
       "      <td>No<\/td>\n",
       "      <td>No<\/td>\n",
       "      <td>No<\/td>\n",
       "      <td>3<\/td>\n",
       "      <td>4.8<\/td>\n",
       "      <td>Dark Green<\/td>\n",
       "      <td>Excellent<\/td>\n",
       "      <td>314<\/td>\n",
       "    <\/tr>\n",
       "    <tr>\n",
       "      <th>1<\/th>\n",
       "      <td>6304287<\/td>\n",
       "      <td>Izakaya Kikufuji<\/td>\n",
       "      <td>162<\/td>\n",
       "      <td>Makati City<\/td>\n",
       "      <td>Little Tokyo, 2277 Chino Roces Avenue, Legaspi...<\/td>\n",
       "      <td>Little Tokyo, Legaspi Village, Makati City<\/td>\n",
       "      <td>Little Tokyo, Legaspi Village, Makati City, Ma...<\/td>\n",
       "      <td>121.014101<\/td>\n",
       "      <td>14.553708<\/td>\n",
       "      <td>Japanese<\/td>\n",
       "      <td>...<\/td>\n",
       "      <td>Botswana Pula(P)<\/td>\n",
       "      <td>Yes<\/td>\n",
       "      <td>No<\/td>\n",
       "      <td>No<\/td>\n",
       "      <td>No<\/td>\n",
       "      <td>3<\/td>\n",
       "      <td>4.5<\/td>\n",
       "      <td>Dark Green<\/td>\n",
       "      <td>Excellent<\/td>\n",
       "      <td>591<\/td>\n",
       "    <\/tr>\n",
       "    <tr>\n",
       "      <th>2<\/th>\n",
       "      <td>6300002<\/td>\n",
       "      <td>Heat - Edsa Shangri-La<\/td>\n",
       "      <td>162<\/td>\n",
       "      <td>Mandaluyong City<\/td>\n",
       "      <td>Edsa Shangri-La, 1 Garden Way, Ortigas, Mandal...<\/td>\n",
       "      <td>Edsa Shangri-La, Ortigas, Mandaluyong City<\/td>\n",
       "      <td>Edsa Shangri-La, Ortigas, Mandaluyong City, Ma...<\/td>\n",
       "      <td>121.056831<\/td>\n",
       "      <td>14.581404<\/td>\n",
       "      <td>Seafood, Asian, Filipino, Indian<\/td>\n",
       "      <td>...<\/td>\n",
       "      <td>Botswana Pula(P)<\/td>\n",
       "      <td>Yes<\/td>\n",
       "      <td>No<\/td>\n",
       "      <td>No<\/td>\n",
       "      <td>No<\/td>\n",
       "      <td>4<\/td>\n",
       "      <td>4.4<\/td>\n",
       "      <td>Green<\/td>\n",
       "      <td>Very Good<\/td>\n",
       "      <td>270<\/td>\n",
       "    <\/tr>\n",
       "    <tr>\n",
       "      <th>3<\/th>\n",
       "      <td>6318506<\/td>\n",
       "      <td>Ooma<\/td>\n",
       "      <td>162<\/td>\n",
       "      <td>Mandaluyong City<\/td>\n",
       "      <td>Third Floor, Mega Fashion Hall, SM Megamall, O...<\/td>\n",
       "      <td>SM Megamall, Ortigas, Mandaluyong City<\/td>\n",
       "      <td>SM Megamall, Ortigas, Mandaluyong City, Mandal...<\/td>\n",
       "      <td>121.056475<\/td>\n",
       "      <td>14.585318<\/td>\n",
       "      <td>Japanese, Sushi<\/td>\n",
       "      <td>...<\/td>\n",
       "      <td>Botswana Pula(P)<\/td>\n",
       "      <td>No<\/td>\n",
       "      <td>No<\/td>\n",
       "      <td>No<\/td>\n",
       "      <td>No<\/td>\n",
       "      <td>4<\/td>\n",
       "      <td>4.9<\/td>\n",
       "      <td>Dark Green<\/td>\n",
       "      <td>Excellent<\/td>\n",
       "      <td>365<\/td>\n",
       "    <\/tr>\n",
       "    <tr>\n",
       "      <th>4<\/th>\n",
       "      <td>6314302<\/td>\n",
       "      <td>Sambo Kojin<\/td>\n",
       "      <td>162<\/td>\n",
       "      <td>Mandaluyong City<\/td>\n",
       "      <td>Third Floor, Mega Atrium, SM Megamall, Ortigas...<\/td>\n",
       "      <td>SM Megamall, Ortigas, Mandaluyong City<\/td>\n",
       "      <td>SM Megamall, Ortigas, Mandaluyong City, Mandal...<\/td>\n",
       "      <td>121.057508<\/td>\n",
       "      <td>14.584450<\/td>\n",
       "      <td>Japanese, Korean<\/td>\n",
       "      <td>...<\/td>\n",
       "      <td>Botswana Pula(P)<\/td>\n",
       "      <td>Yes<\/td>\n",
       "      <td>No<\/td>\n",
       "      <td>No<\/td>\n",
       "      <td>No<\/td>\n",
       "      <td>4<\/td>\n",
       "      <td>4.8<\/td>\n",
       "      <td>Dark Green<\/td>\n",
       "      <td>Excellent<\/td>\n",
       "      <td>229<\/td>\n",
       "    <\/tr>\n",
       "  <\/tbody>\n",
       "<\/table>\n",
       "<p>5 rows × 21 columns<\/p>\n",
       "<\/div>"
      ]
     },
     "metadata":{
      
     },
     "output_type":"display_data"
    }
   ],
   "metadata":{
    "datalore":{
     "type":"CODE",
     "hide_input_from_viewers":false,
     "hide_output_from_viewers":false,
     "node_id":"LddV18WJ9ZAkufJ0c7gaZG"
    }
   }
  },
  {
   "cell_type":"code",
   "source":[
    "df.columns"
   ],
   "execution_count":25,
   "outputs":[
    {
     "data":{
      "text\/plain":[
       "Index(['Restaurant ID', 'Restaurant Name', 'Country Code', 'City', 'Address',\n",
       "       'Locality', 'Locality Verbose', 'Longitude', 'Latitude', 'Cuisines',\n",
       "       'Average Cost for two', 'Currency', 'Has Table booking',\n",
       "       'Has Online delivery', 'Is delivering now', 'Switch to order menu',\n",
       "       'Price range', 'Aggregate rating', 'Rating color', 'Rating text',\n",
       "       'Votes'],\n",
       "      dtype='object')"
      ]
     },
     "metadata":{
      
     },
     "output_type":"display_data"
    }
   ],
   "metadata":{
    "datalore":{
     "type":"CODE",
     "hide_input_from_viewers":false,
     "hide_output_from_viewers":false,
     "node_id":"IyMhOSEYreO5uZ4doZAdds"
    }
   }
  },
  {
   "cell_type":"code",
   "source":[
    "df.info()"
   ],
   "execution_count":26,
   "outputs":[
    {
     "name":"stdout",
     "text":[
      "<class 'pandas.core.frame.DataFrame'>\n",
      "RangeIndex: 9551 entries, 0 to 9550\n",
      "Data columns (total 21 columns):\n",
      " #   Column                Non-Null Count  Dtype  \n",
      "---  ------                --------------  -----  \n",
      " 0   Restaurant ID         9551 non-null   int64  \n",
      " 1   Restaurant Name       9551 non-null   object \n",
      " 2   Country Code          9551 non-null   int64  \n",
      " 3   City                  9551 non-null   object \n",
      " 4   Address               9551 non-null   object \n",
      " 5   Locality              9551 non-null   object \n",
      " 6   Locality Verbose      9551 non-null   object \n",
      " 7   Longitude             9551 non-null   float64\n",
      " 8   Latitude              9551 non-null   float64\n",
      " 9   Cuisines              9542 non-null   object \n",
      " 10  Average Cost for two  9551 non-null   int64  \n",
      " 11  Currency              9551 non-null   object \n",
      " 12  Has Table booking     9551 non-null   object \n",
      " 13  Has Online delivery   9551 non-null   object \n",
      " 14  Is delivering now     9551 non-null   object \n",
      " 15  Switch to order menu  9551 non-null   object \n",
      " 16  Price range           9551 non-null   int64  \n",
      " 17  Aggregate rating      9551 non-null   float64\n",
      " 18  Rating color          9551 non-null   object \n",
      " 19  Rating text           9551 non-null   object \n",
      " 20  Votes                 9551 non-null   int64  \n",
      "dtypes: float64(3), int64(5), object(13)\n",
      "memory usage: 1.5+ MB\n"
     ],
     "output_type":"stream"
    }
   ],
   "metadata":{
    "datalore":{
     "type":"CODE",
     "hide_input_from_viewers":false,
     "hide_output_from_viewers":false,
     "node_id":"8gGsQqav2uJ3sYsz7FBPMQ"
    }
   }
  },
  {
   "cell_type":"code",
   "source":[
    "df.describe()"
   ],
   "execution_count":27,
   "outputs":[
    {
     "data":{
      "text\/html":[
       "<div>\n",
       "<style scoped>\n",
       "    .dataframe tbody tr th:only-of-type {\n",
       "        vertical-align: middle;\n",
       "    }\n",
       "\n",
       "    .dataframe tbody tr th {\n",
       "        vertical-align: top;\n",
       "    }\n",
       "\n",
       "    .dataframe thead th {\n",
       "        text-align: right;\n",
       "    }\n",
       "<\/style>\n",
       "<table border=\"1\" class=\"dataframe\">\n",
       "  <thead>\n",
       "    <tr style=\"text-align: right;\">\n",
       "      <th><\/th>\n",
       "      <th>Restaurant ID<\/th>\n",
       "      <th>Country Code<\/th>\n",
       "      <th>Longitude<\/th>\n",
       "      <th>Latitude<\/th>\n",
       "      <th>Average Cost for two<\/th>\n",
       "      <th>Price range<\/th>\n",
       "      <th>Aggregate rating<\/th>\n",
       "      <th>Votes<\/th>\n",
       "    <\/tr>\n",
       "  <\/thead>\n",
       "  <tbody>\n",
       "    <tr>\n",
       "      <th>count<\/th>\n",
       "      <td>9.551000e+03<\/td>\n",
       "      <td>9551.000000<\/td>\n",
       "      <td>9551.000000<\/td>\n",
       "      <td>9551.000000<\/td>\n",
       "      <td>9551.000000<\/td>\n",
       "      <td>9551.000000<\/td>\n",
       "      <td>9551.000000<\/td>\n",
       "      <td>9551.000000<\/td>\n",
       "    <\/tr>\n",
       "    <tr>\n",
       "      <th>mean<\/th>\n",
       "      <td>9.051128e+06<\/td>\n",
       "      <td>18.365616<\/td>\n",
       "      <td>64.126574<\/td>\n",
       "      <td>25.854381<\/td>\n",
       "      <td>1199.210763<\/td>\n",
       "      <td>1.804837<\/td>\n",
       "      <td>2.666370<\/td>\n",
       "      <td>156.909748<\/td>\n",
       "    <\/tr>\n",
       "    <tr>\n",
       "      <th>std<\/th>\n",
       "      <td>8.791521e+06<\/td>\n",
       "      <td>56.750546<\/td>\n",
       "      <td>41.467058<\/td>\n",
       "      <td>11.007935<\/td>\n",
       "      <td>16121.183073<\/td>\n",
       "      <td>0.905609<\/td>\n",
       "      <td>1.516378<\/td>\n",
       "      <td>430.169145<\/td>\n",
       "    <\/tr>\n",
       "    <tr>\n",
       "      <th>min<\/th>\n",
       "      <td>5.300000e+01<\/td>\n",
       "      <td>1.000000<\/td>\n",
       "      <td>-157.948486<\/td>\n",
       "      <td>-41.330428<\/td>\n",
       "      <td>0.000000<\/td>\n",
       "      <td>1.000000<\/td>\n",
       "      <td>0.000000<\/td>\n",
       "      <td>0.000000<\/td>\n",
       "    <\/tr>\n",
       "    <tr>\n",
       "      <th>25%<\/th>\n",
       "      <td>3.019625e+05<\/td>\n",
       "      <td>1.000000<\/td>\n",
       "      <td>77.081343<\/td>\n",
       "      <td>28.478713<\/td>\n",
       "      <td>250.000000<\/td>\n",
       "      <td>1.000000<\/td>\n",
       "      <td>2.500000<\/td>\n",
       "      <td>5.000000<\/td>\n",
       "    <\/tr>\n",
       "    <tr>\n",
       "      <th>50%<\/th>\n",
       "      <td>6.004089e+06<\/td>\n",
       "      <td>1.000000<\/td>\n",
       "      <td>77.191964<\/td>\n",
       "      <td>28.570469<\/td>\n",
       "      <td>400.000000<\/td>\n",
       "      <td>2.000000<\/td>\n",
       "      <td>3.200000<\/td>\n",
       "      <td>31.000000<\/td>\n",
       "    <\/tr>\n",
       "    <tr>\n",
       "      <th>75%<\/th>\n",
       "      <td>1.835229e+07<\/td>\n",
       "      <td>1.000000<\/td>\n",
       "      <td>77.282006<\/td>\n",
       "      <td>28.642758<\/td>\n",
       "      <td>700.000000<\/td>\n",
       "      <td>2.000000<\/td>\n",
       "      <td>3.700000<\/td>\n",
       "      <td>131.000000<\/td>\n",
       "    <\/tr>\n",
       "    <tr>\n",
       "      <th>max<\/th>\n",
       "      <td>1.850065e+07<\/td>\n",
       "      <td>216.000000<\/td>\n",
       "      <td>174.832089<\/td>\n",
       "      <td>55.976980<\/td>\n",
       "      <td>800000.000000<\/td>\n",
       "      <td>4.000000<\/td>\n",
       "      <td>4.900000<\/td>\n",
       "      <td>10934.000000<\/td>\n",
       "    <\/tr>\n",
       "  <\/tbody>\n",
       "<\/table>\n",
       "<\/div>"
      ]
     },
     "metadata":{
      
     },
     "output_type":"display_data"
    }
   ],
   "metadata":{
    "datalore":{
     "type":"CODE",
     "hide_input_from_viewers":false,
     "hide_output_from_viewers":false,
     "node_id":"9fRFrUKC6iUbGRWBbqvsn3"
    }
   }
  },
  {
   "cell_type":"markdown",
   "source":[
    "#### EDA\n",
    "1. missing values\n",
    "2. Explore numerial variables\n",
    "3. categorical variables \n",
    "4. relationship between features"
   ],
   "attachments":{
    
   },
   "metadata":{
    "datalore":{
     "type":"MD",
     "hide_input_from_viewers":false,
     "hide_output_from_viewers":false,
     "node_id":"sRCc1rNg6S2uDYTt0pPe6v"
    }
   }
  },
  {
   "cell_type":"code",
   "source":[
    "df.isnull().sum()"
   ],
   "execution_count":33,
   "outputs":[
    {
     "data":{
      "text\/html":[
       
      ]
     },
     "metadata":{
      
     },
     "output_type":"display_data"
    }
   ],
   "metadata":{
    "datalore":{
     "type":"CODE",
     "hide_input_from_viewers":false,
     "hide_output_from_viewers":false,
     "node_id":"ePJzzE5KAebjIu8hgpCe8o"
    }
   }
  },
  {
   "cell_type":"code",
   "source":[
    "[features for features in df.columns if df[features].isnull().sum()>0]"
   ],
   "execution_count":35,
   "outputs":[
    {
     "data":{
      "text\/plain":[
       "['Cuisines']"
      ]
     },
     "metadata":{
      
     },
     "output_type":"display_data"
    }
   ],
   "metadata":{
    "datalore":{
     "type":"CODE",
     "hide_input_from_viewers":false,
     "hide_output_from_viewers":false,
     "node_id":"6CncZCa6KRQlP9O8nbzuJV"
    }
   }
  },
  {
   "cell_type":"code",
   "source":[
    "plt.figure(figsize=(12,6))\n",
    "sns.heatmap(df.isnull(), yticklabels=False, cbar=False, cmap='viridis')\n",
    "plt.show()"
   ],
   "execution_count":92,
   "outputs":[
    {
     "data":{
      "image\/png":"[encoded data removed]"
     },
     "metadata":{
      "image\/png":{
       
      }
     },
     "output_type":"display_data"
    }
   ],
   "metadata":{
    "datalore":{
     "type":"CODE",
     "hide_input_from_viewers":false,
     "hide_output_from_viewers":false,
     "node_id":"JMFjMI3js6bOnjwMvA5KTt"
    }
   }
  },
  {
   "cell_type":"code",
   "source":[
    "df_country = pd.read_excel('Country-Code.xlsx')\n",
    "df_country.head()"
   ],
   "execution_count":47,
   "outputs":[
    {
     "data":{
      "text\/html":[
       "<div>\n",
       "<style scoped>\n",
       "    .dataframe tbody tr th:only-of-type {\n",
       "        vertical-align: middle;\n",
       "    }\n",
       "\n",
       "    .dataframe tbody tr th {\n",
       "        vertical-align: top;\n",
       "    }\n",
       "\n",
       "    .dataframe thead th {\n",
       "        text-align: right;\n",
       "    }\n",
       "<\/style>\n",
       "<table border=\"1\" class=\"dataframe\">\n",
       "  <thead>\n",
       "    <tr style=\"text-align: right;\">\n",
       "      <th><\/th>\n",
       "      <th>Country Code<\/th>\n",
       "      <th>Country<\/th>\n",
       "    <\/tr>\n",
       "  <\/thead>\n",
       "  <tbody>\n",
       "    <tr>\n",
       "      <th>0<\/th>\n",
       "      <td>1<\/td>\n",
       "      <td>India<\/td>\n",
       "    <\/tr>\n",
       "    <tr>\n",
       "      <th>1<\/th>\n",
       "      <td>14<\/td>\n",
       "      <td>Australia<\/td>\n",
       "    <\/tr>\n",
       "    <tr>\n",
       "      <th>2<\/th>\n",
       "      <td>30<\/td>\n",
       "      <td>Brazil<\/td>\n",
       "    <\/tr>\n",
       "    <tr>\n",
       "      <th>3<\/th>\n",
       "      <td>37<\/td>\n",
       "      <td>Canada<\/td>\n",
       "    <\/tr>\n",
       "    <tr>\n",
       "      <th>4<\/th>\n",
       "      <td>94<\/td>\n",
       "      <td>Indonesia<\/td>\n",
       "    <\/tr>\n",
       "  <\/tbody>\n",
       "<\/table>\n",
       "<\/div>"
      ]
     },
     "metadata":{
      
     },
     "output_type":"display_data"
    }
   ],
   "metadata":{
    "datalore":{
     "type":"CODE",
     "hide_input_from_viewers":false,
     "hide_output_from_viewers":false,
     "node_id":"1NJsFeZMeRvxx9PUGRxtFG"
    }
   }
  },
  {
   "cell_type":"code",
   "source":[
    "final_df = pd.merge(df, df_country, on = 'Country Code', how = 'left')"
   ],
   "execution_count":50,
   "outputs":[
    
   ],
   "metadata":{
    "datalore":{
     "type":"CODE",
     "hide_input_from_viewers":false,
     "hide_output_from_viewers":false,
     "node_id":"cKmfldgrH3nn15gzBE9P5A"
    }
   }
  },
  {
   "cell_type":"code",
   "source":[
    "final_df.head()"
   ],
   "execution_count":51,
   "outputs":[
    {
     "data":{
      "text\/html":[
       "<div>\n",
       "<style scoped>\n",
       "    .dataframe tbody tr th:only-of-type {\n",
       "        vertical-align: middle;\n",
       "    }\n",
       "\n",
       "    .dataframe tbody tr th {\n",
       "        vertical-align: top;\n",
       "    }\n",
       "\n",
       "    .dataframe thead th {\n",
       "        text-align: right;\n",
       "    }\n",
       "<\/style>\n",
       "<table border=\"1\" class=\"dataframe\">\n",
       "  <thead>\n",
       "    <tr style=\"text-align: right;\">\n",
       "      <th><\/th>\n",
       "      <th>Restaurant ID<\/th>\n",
       "      <th>Restaurant Name<\/th>\n",
       "      <th>Country Code<\/th>\n",
       "      <th>City<\/th>\n",
       "      <th>Address<\/th>\n",
       "      <th>Locality<\/th>\n",
       "      <th>Locality Verbose<\/th>\n",
       "      <th>Longitude<\/th>\n",
       "      <th>Latitude<\/th>\n",
       "      <th>Cuisines<\/th>\n",
       "      <th>...<\/th>\n",
       "      <th>Has Table booking<\/th>\n",
       "      <th>Has Online delivery<\/th>\n",
       "      <th>Is delivering now<\/th>\n",
       "      <th>Switch to order menu<\/th>\n",
       "      <th>Price range<\/th>\n",
       "      <th>Aggregate rating<\/th>\n",
       "      <th>Rating color<\/th>\n",
       "      <th>Rating text<\/th>\n",
       "      <th>Votes<\/th>\n",
       "      <th>Country<\/th>\n",
       "    <\/tr>\n",
       "  <\/thead>\n",
       "  <tbody>\n",
       "    <tr>\n",
       "      <th>0<\/th>\n",
       "      <td>6317637<\/td>\n",
       "      <td>Le Petit Souffle<\/td>\n",
       "      <td>162<\/td>\n",
       "      <td>Makati City<\/td>\n",
       "      <td>Third Floor, Century City Mall, Kalayaan Avenu...<\/td>\n",
       "      <td>Century City Mall, Poblacion, Makati City<\/td>\n",
       "      <td>Century City Mall, Poblacion, Makati City, Mak...<\/td>\n",
       "      <td>121.027535<\/td>\n",
       "      <td>14.565443<\/td>\n",
       "      <td>French, Japanese, Desserts<\/td>\n",
       "      <td>...<\/td>\n",
       "      <td>Yes<\/td>\n",
       "      <td>No<\/td>\n",
       "      <td>No<\/td>\n",
       "      <td>No<\/td>\n",
       "      <td>3<\/td>\n",
       "      <td>4.8<\/td>\n",
       "      <td>Dark Green<\/td>\n",
       "      <td>Excellent<\/td>\n",
       "      <td>314<\/td>\n",
       "      <td>Phillipines<\/td>\n",
       "    <\/tr>\n",
       "    <tr>\n",
       "      <th>1<\/th>\n",
       "      <td>6304287<\/td>\n",
       "      <td>Izakaya Kikufuji<\/td>\n",
       "      <td>162<\/td>\n",
       "      <td>Makati City<\/td>\n",
       "      <td>Little Tokyo, 2277 Chino Roces Avenue, Legaspi...<\/td>\n",
       "      <td>Little Tokyo, Legaspi Village, Makati City<\/td>\n",
       "      <td>Little Tokyo, Legaspi Village, Makati City, Ma...<\/td>\n",
       "      <td>121.014101<\/td>\n",
       "      <td>14.553708<\/td>\n",
       "      <td>Japanese<\/td>\n",
       "      <td>...<\/td>\n",
       "      <td>Yes<\/td>\n",
       "      <td>No<\/td>\n",
       "      <td>No<\/td>\n",
       "      <td>No<\/td>\n",
       "      <td>3<\/td>\n",
       "      <td>4.5<\/td>\n",
       "      <td>Dark Green<\/td>\n",
       "      <td>Excellent<\/td>\n",
       "      <td>591<\/td>\n",
       "      <td>Phillipines<\/td>\n",
       "    <\/tr>\n",
       "    <tr>\n",
       "      <th>2<\/th>\n",
       "      <td>6300002<\/td>\n",
       "      <td>Heat - Edsa Shangri-La<\/td>\n",
       "      <td>162<\/td>\n",
       "      <td>Mandaluyong City<\/td>\n",
       "      <td>Edsa Shangri-La, 1 Garden Way, Ortigas, Mandal...<\/td>\n",
       "      <td>Edsa Shangri-La, Ortigas, Mandaluyong City<\/td>\n",
       "      <td>Edsa Shangri-La, Ortigas, Mandaluyong City, Ma...<\/td>\n",
       "      <td>121.056831<\/td>\n",
       "      <td>14.581404<\/td>\n",
       "      <td>Seafood, Asian, Filipino, Indian<\/td>\n",
       "      <td>...<\/td>\n",
       "      <td>Yes<\/td>\n",
       "      <td>No<\/td>\n",
       "      <td>No<\/td>\n",
       "      <td>No<\/td>\n",
       "      <td>4<\/td>\n",
       "      <td>4.4<\/td>\n",
       "      <td>Green<\/td>\n",
       "      <td>Very Good<\/td>\n",
       "      <td>270<\/td>\n",
       "      <td>Phillipines<\/td>\n",
       "    <\/tr>\n",
       "    <tr>\n",
       "      <th>3<\/th>\n",
       "      <td>6318506<\/td>\n",
       "      <td>Ooma<\/td>\n",
       "      <td>162<\/td>\n",
       "      <td>Mandaluyong City<\/td>\n",
       "      <td>Third Floor, Mega Fashion Hall, SM Megamall, O...<\/td>\n",
       "      <td>SM Megamall, Ortigas, Mandaluyong City<\/td>\n",
       "      <td>SM Megamall, Ortigas, Mandaluyong City, Mandal...<\/td>\n",
       "      <td>121.056475<\/td>\n",
       "      <td>14.585318<\/td>\n",
       "      <td>Japanese, Sushi<\/td>\n",
       "      <td>...<\/td>\n",
       "      <td>No<\/td>\n",
       "      <td>No<\/td>\n",
       "      <td>No<\/td>\n",
       "      <td>No<\/td>\n",
       "      <td>4<\/td>\n",
       "      <td>4.9<\/td>\n",
       "      <td>Dark Green<\/td>\n",
       "      <td>Excellent<\/td>\n",
       "      <td>365<\/td>\n",
       "      <td>Phillipines<\/td>\n",
       "    <\/tr>\n",
       "    <tr>\n",
       "      <th>4<\/th>\n",
       "      <td>6314302<\/td>\n",
       "      <td>Sambo Kojin<\/td>\n",
       "      <td>162<\/td>\n",
       "      <td>Mandaluyong City<\/td>\n",
       "      <td>Third Floor, Mega Atrium, SM Megamall, Ortigas...<\/td>\n",
       "      <td>SM Megamall, Ortigas, Mandaluyong City<\/td>\n",
       "      <td>SM Megamall, Ortigas, Mandaluyong City, Mandal...<\/td>\n",
       "      <td>121.057508<\/td>\n",
       "      <td>14.584450<\/td>\n",
       "      <td>Japanese, Korean<\/td>\n",
       "      <td>...<\/td>\n",
       "      <td>Yes<\/td>\n",
       "      <td>No<\/td>\n",
       "      <td>No<\/td>\n",
       "      <td>No<\/td>\n",
       "      <td>4<\/td>\n",
       "      <td>4.8<\/td>\n",
       "      <td>Dark Green<\/td>\n",
       "      <td>Excellent<\/td>\n",
       "      <td>229<\/td>\n",
       "      <td>Phillipines<\/td>\n",
       "    <\/tr>\n",
       "  <\/tbody>\n",
       "<\/table>\n",
       "<p>5 rows × 22 columns<\/p>\n",
       "<\/div>"
      ]
     },
     "metadata":{
      
     },
     "output_type":"display_data"
    }
   ],
   "metadata":{
    "datalore":{
     "type":"CODE",
     "hide_input_from_viewers":false,
     "hide_output_from_viewers":false,
     "node_id":"QERZ1QCK6ZSD1xUIin3k6M"
    }
   }
  },
  {
   "cell_type":"code",
   "source":[
    "final_df.columns"
   ],
   "execution_count":52,
   "outputs":[
    {
     "data":{
      "text\/plain":[
       "Index(['Restaurant ID', 'Restaurant Name', 'Country Code', 'City', 'Address',\n",
       "       'Locality', 'Locality Verbose', 'Longitude', 'Latitude', 'Cuisines',\n",
       "       'Average Cost for two', 'Currency', 'Has Table booking',\n",
       "       'Has Online delivery', 'Is delivering now', 'Switch to order menu',\n",
       "       'Price range', 'Aggregate rating', 'Rating color', 'Rating text',\n",
       "       'Votes', 'Country'],\n",
       "      dtype='object')"
      ]
     },
     "metadata":{
      
     },
     "output_type":"display_data"
    }
   ],
   "metadata":{
    "datalore":{
     "type":"CODE",
     "hide_input_from_viewers":false,
     "hide_output_from_viewers":false,
     "node_id":"4EHO5s82d9rECP1v4vR7kQ"
    }
   }
  },
  {
   "cell_type":"code",
   "source":[
    "country_names = final_df.Country.value_counts().index"
   ],
   "execution_count":56,
   "outputs":[
    
   ],
   "metadata":{
    "datalore":{
     "type":"CODE",
     "hide_input_from_viewers":false,
     "hide_output_from_viewers":false,
     "node_id":"Jjpcg9jJbGRPiZ0JqEYZOv"
    }
   }
  },
  {
   "cell_type":"code",
   "source":[
    "country_values = final_df.Country.value_counts().values"
   ],
   "execution_count":58,
   "outputs":[
    
   ],
   "metadata":{
    "datalore":{
     "type":"CODE",
     "hide_input_from_viewers":false,
     "hide_output_from_viewers":false,
     "node_id":"zP5LLZQlNnVeqbB76YSZ7f"
    }
   }
  },
  {
   "cell_type":"code",
   "source":[
    "# Pie chart - Top 3 countries using zomato\n",
    "\n",
    "plt.pie(country_values[:3], labels=country_names[:3], autopct='%1.2f%%')\n",
    "plt.show()"
   ],
   "execution_count":69,
   "outputs":[
    {
     "data":{
      "image\/png":"[encoded data removed]"
     },
     "metadata":{
      "image\/png":{
       
      }
     },
     "output_type":"display_data"
    }
   ],
   "metadata":{
    "datalore":{
     "type":"CODE",
     "hide_input_from_viewers":false,
     "hide_output_from_viewers":false,
     "node_id":"S9rbCI0sFJhNHAyhPiuDF2"
    }
   }
  },
  {
   "cell_type":"markdown",
   "source":[
    "observations: Maximum records\/transactions are from India and their after from United State and later United Kindom"
   ],
   "attachments":{
    
   },
   "metadata":{
    "datalore":{
     "type":"MD",
     "hide_input_from_viewers":false,
     "hide_output_from_viewers":false,
     "node_id":"bdQwGn9wfaJVaFmISyXahB"
    }
   }
  },
  {
   "cell_type":"code",
   "source":[
    "rating = final_df.groupby(['Aggregate rating', 'Rating color', 'Rating text']).size().reset_index().rename(columns = {0:'Rating count'})"
   ],
   "execution_count":78,
   "outputs":[
    
   ],
   "metadata":{
    "datalore":{
     "type":"CODE",
     "hide_input_from_viewers":false,
     "hide_output_from_viewers":false,
     "node_id":"KzbPvaFaXkdPD6fMOEJfaN"
    }
   }
  },
  {
   "cell_type":"code",
   "source":[
    "rating"
   ],
   "execution_count":80,
   "outputs":[
    {
     "data":{
      "text\/html":[
       "<div>\n",
       "<style scoped>\n",
       "    .dataframe tbody tr th:only-of-type {\n",
       "        vertical-align: middle;\n",
       "    }\n",
       "\n",
       "    .dataframe tbody tr th {\n",
       "        vertical-align: top;\n",
       "    }\n",
       "\n",
       "    .dataframe thead th {\n",
       "        text-align: right;\n",
       "    }\n",
       "<\/style>\n",
       "<table border=\"1\" class=\"dataframe\">\n",
       "  <thead>\n",
       "    <tr style=\"text-align: right;\">\n",
       "      <th><\/th>\n",
       "      <th>Aggregate rating<\/th>\n",
       "      <th>Rating color<\/th>\n",
       "      <th>Rating text<\/th>\n",
       "      <th>Rating count<\/th>\n",
       "    <\/tr>\n",
       "  <\/thead>\n",
       "  <tbody>\n",
       "    <tr>\n",
       "      <th>0<\/th>\n",
       "      <td>0.0<\/td>\n",
       "      <td>White<\/td>\n",
       "      <td>Not rated<\/td>\n",
       "      <td>2148<\/td>\n",
       "    <\/tr>\n",
       "    <tr>\n",
       "      <th>1<\/th>\n",
       "      <td>1.8<\/td>\n",
       "      <td>Red<\/td>\n",
       "      <td>Poor<\/td>\n",
       "      <td>1<\/td>\n",
       "    <\/tr>\n",
       "    <tr>\n",
       "      <th>2<\/th>\n",
       "      <td>1.9<\/td>\n",
       "      <td>Red<\/td>\n",
       "      <td>Poor<\/td>\n",
       "      <td>2<\/td>\n",
       "    <\/tr>\n",
       "    <tr>\n",
       "      <th>3<\/th>\n",
       "      <td>2.0<\/td>\n",
       "      <td>Red<\/td>\n",
       "      <td>Poor<\/td>\n",
       "      <td>7<\/td>\n",
       "    <\/tr>\n",
       "    <tr>\n",
       "      <th>4<\/th>\n",
       "      <td>2.1<\/td>\n",
       "      <td>Red<\/td>\n",
       "      <td>Poor<\/td>\n",
       "      <td>15<\/td>\n",
       "    <\/tr>\n",
       "    <tr>\n",
       "      <th>5<\/th>\n",
       "      <td>2.2<\/td>\n",
       "      <td>Red<\/td>\n",
       "      <td>Poor<\/td>\n",
       "      <td>27<\/td>\n",
       "    <\/tr>\n",
       "    <tr>\n",
       "      <th>6<\/th>\n",
       "      <td>2.3<\/td>\n",
       "      <td>Red<\/td>\n",
       "      <td>Poor<\/td>\n",
       "      <td>47<\/td>\n",
       "    <\/tr>\n",
       "    <tr>\n",
       "      <th>7<\/th>\n",
       "      <td>2.4<\/td>\n",
       "      <td>Red<\/td>\n",
       "      <td>Poor<\/td>\n",
       "      <td>87<\/td>\n",
       "    <\/tr>\n",
       "    <tr>\n",
       "      <th>8<\/th>\n",
       "      <td>2.5<\/td>\n",
       "      <td>Orange<\/td>\n",
       "      <td>Average<\/td>\n",
       "      <td>110<\/td>\n",
       "    <\/tr>\n",
       "    <tr>\n",
       "      <th>9<\/th>\n",
       "      <td>2.6<\/td>\n",
       "      <td>Orange<\/td>\n",
       "      <td>Average<\/td>\n",
       "      <td>191<\/td>\n",
       "    <\/tr>\n",
       "    <tr>\n",
       "      <th>10<\/th>\n",
       "      <td>2.7<\/td>\n",
       "      <td>Orange<\/td>\n",
       "      <td>Average<\/td>\n",
       "      <td>250<\/td>\n",
       "    <\/tr>\n",
       "    <tr>\n",
       "      <th>11<\/th>\n",
       "      <td>2.8<\/td>\n",
       "      <td>Orange<\/td>\n",
       "      <td>Average<\/td>\n",
       "      <td>315<\/td>\n",
       "    <\/tr>\n",
       "    <tr>\n",
       "      <th>12<\/th>\n",
       "      <td>2.9<\/td>\n",
       "      <td>Orange<\/td>\n",
       "      <td>Average<\/td>\n",
       "      <td>381<\/td>\n",
       "    <\/tr>\n",
       "    <tr>\n",
       "      <th>13<\/th>\n",
       "      <td>3.0<\/td>\n",
       "      <td>Orange<\/td>\n",
       "      <td>Average<\/td>\n",
       "      <td>468<\/td>\n",
       "    <\/tr>\n",
       "    <tr>\n",
       "      <th>14<\/th>\n",
       "      <td>3.1<\/td>\n",
       "      <td>Orange<\/td>\n",
       "      <td>Average<\/td>\n",
       "      <td>519<\/td>\n",
       "    <\/tr>\n",
       "    <tr>\n",
       "      <th>15<\/th>\n",
       "      <td>3.2<\/td>\n",
       "      <td>Orange<\/td>\n",
       "      <td>Average<\/td>\n",
       "      <td>522<\/td>\n",
       "    <\/tr>\n",
       "    <tr>\n",
       "      <th>16<\/th>\n",
       "      <td>3.3<\/td>\n",
       "      <td>Orange<\/td>\n",
       "      <td>Average<\/td>\n",
       "      <td>483<\/td>\n",
       "    <\/tr>\n",
       "    <tr>\n",
       "      <th>17<\/th>\n",
       "      <td>3.4<\/td>\n",
       "      <td>Orange<\/td>\n",
       "      <td>Average<\/td>\n",
       "      <td>498<\/td>\n",
       "    <\/tr>\n",
       "    <tr>\n",
       "      <th>18<\/th>\n",
       "      <td>3.5<\/td>\n",
       "      <td>Yellow<\/td>\n",
       "      <td>Good<\/td>\n",
       "      <td>480<\/td>\n",
       "    <\/tr>\n",
       "    <tr>\n",
       "      <th>19<\/th>\n",
       "      <td>3.6<\/td>\n",
       "      <td>Yellow<\/td>\n",
       "      <td>Good<\/td>\n",
       "      <td>458<\/td>\n",
       "    <\/tr>\n",
       "    <tr>\n",
       "      <th>20<\/th>\n",
       "      <td>3.7<\/td>\n",
       "      <td>Yellow<\/td>\n",
       "      <td>Good<\/td>\n",
       "      <td>427<\/td>\n",
       "    <\/tr>\n",
       "    <tr>\n",
       "      <th>21<\/th>\n",
       "      <td>3.8<\/td>\n",
       "      <td>Yellow<\/td>\n",
       "      <td>Good<\/td>\n",
       "      <td>400<\/td>\n",
       "    <\/tr>\n",
       "    <tr>\n",
       "      <th>22<\/th>\n",
       "      <td>3.9<\/td>\n",
       "      <td>Yellow<\/td>\n",
       "      <td>Good<\/td>\n",
       "      <td>335<\/td>\n",
       "    <\/tr>\n",
       "    <tr>\n",
       "      <th>23<\/th>\n",
       "      <td>4.0<\/td>\n",
       "      <td>Green<\/td>\n",
       "      <td>Very Good<\/td>\n",
       "      <td>266<\/td>\n",
       "    <\/tr>\n",
       "    <tr>\n",
       "      <th>24<\/th>\n",
       "      <td>4.1<\/td>\n",
       "      <td>Green<\/td>\n",
       "      <td>Very Good<\/td>\n",
       "      <td>274<\/td>\n",
       "    <\/tr>\n",
       "    <tr>\n",
       "      <th>25<\/th>\n",
       "      <td>4.2<\/td>\n",
       "      <td>Green<\/td>\n",
       "      <td>Very Good<\/td>\n",
       "      <td>221<\/td>\n",
       "    <\/tr>\n",
       "    <tr>\n",
       "      <th>26<\/th>\n",
       "      <td>4.3<\/td>\n",
       "      <td>Green<\/td>\n",
       "      <td>Very Good<\/td>\n",
       "      <td>174<\/td>\n",
       "    <\/tr>\n",
       "    <tr>\n",
       "      <th>27<\/th>\n",
       "      <td>4.4<\/td>\n",
       "      <td>Green<\/td>\n",
       "      <td>Very Good<\/td>\n",
       "      <td>144<\/td>\n",
       "    <\/tr>\n",
       "    <tr>\n",
       "      <th>28<\/th>\n",
       "      <td>4.5<\/td>\n",
       "      <td>Dark Green<\/td>\n",
       "      <td>Excellent<\/td>\n",
       "      <td>95<\/td>\n",
       "    <\/tr>\n",
       "    <tr>\n",
       "      <th>29<\/th>\n",
       "      <td>4.6<\/td>\n",
       "      <td>Dark Green<\/td>\n",
       "      <td>Excellent<\/td>\n",
       "      <td>78<\/td>\n",
       "    <\/tr>\n",
       "    <tr>\n",
       "      <th>30<\/th>\n",
       "      <td>4.7<\/td>\n",
       "      <td>Dark Green<\/td>\n",
       "      <td>Excellent<\/td>\n",
       "      <td>42<\/td>\n",
       "    <\/tr>\n",
       "    <tr>\n",
       "      <th>31<\/th>\n",
       "      <td>4.8<\/td>\n",
       "      <td>Dark Green<\/td>\n",
       "      <td>Excellent<\/td>\n",
       "      <td>25<\/td>\n",
       "    <\/tr>\n",
       "    <tr>\n",
       "      <th>32<\/th>\n",
       "      <td>4.9<\/td>\n",
       "      <td>Dark Green<\/td>\n",
       "      <td>Excellent<\/td>\n",
       "      <td>61<\/td>\n",
       "    <\/tr>\n",
       "  <\/tbody>\n",
       "<\/table>\n",
       "<\/div>"
      ]
     },
     "metadata":{
      
     },
     "output_type":"display_data"
    }
   ],
   "metadata":{
    "datalore":{
     "type":"CODE",
     "hide_input_from_viewers":false,
     "hide_output_from_viewers":false,
     "node_id":"YM7QlAJD0nyTYOgAjrx4pL"
    }
   }
  },
  {
   "cell_type":"markdown",
   "source":[
    "Observations:\n",
    "1. When the ratings are between 4.5 to 4.9 is Excellent\n",
    "2. When the ratings are between 4.0 to 4.4 - Very good\n",
    "3. When the ratings are between 3.5 to 3.9 - Good\n",
    "4. When the ratings are between 2.5 to 3.4 - Average\n",
    "5. When the ratings are between 1.8 to 2.4 - Poor\n",
    "6. When the rating is 0 - Not rated"
   ],
   "attachments":{
    
   },
   "metadata":{
    "datalore":{
     "type":"MD",
     "hide_input_from_viewers":false,
     "hide_output_from_viewers":false,
     "node_id":"vRaT9vi0meGw6piD7MrLvr"
    }
   }
  },
  {
   "cell_type":"code",
   "source":[
    "rating.head()"
   ],
   "execution_count":82,
   "outputs":[
    {
     "data":{
      "text\/html":[
       "<div>\n",
       "<style scoped>\n",
       "    .dataframe tbody tr th:only-of-type {\n",
       "        vertical-align: middle;\n",
       "    }\n",
       "\n",
       "    .dataframe tbody tr th {\n",
       "        vertical-align: top;\n",
       "    }\n",
       "\n",
       "    .dataframe thead th {\n",
       "        text-align: right;\n",
       "    }\n",
       "<\/style>\n",
       "<table border=\"1\" class=\"dataframe\">\n",
       "  <thead>\n",
       "    <tr style=\"text-align: right;\">\n",
       "      <th><\/th>\n",
       "      <th>Aggregate rating<\/th>\n",
       "      <th>Rating color<\/th>\n",
       "      <th>Rating text<\/th>\n",
       "      <th>Rating count<\/th>\n",
       "    <\/tr>\n",
       "  <\/thead>\n",
       "  <tbody>\n",
       "    <tr>\n",
       "      <th>0<\/th>\n",
       "      <td>0.0<\/td>\n",
       "      <td>White<\/td>\n",
       "      <td>Not rated<\/td>\n",
       "      <td>2148<\/td>\n",
       "    <\/tr>\n",
       "    <tr>\n",
       "      <th>1<\/th>\n",
       "      <td>1.8<\/td>\n",
       "      <td>Red<\/td>\n",
       "      <td>Poor<\/td>\n",
       "      <td>1<\/td>\n",
       "    <\/tr>\n",
       "    <tr>\n",
       "      <th>2<\/th>\n",
       "      <td>1.9<\/td>\n",
       "      <td>Red<\/td>\n",
       "      <td>Poor<\/td>\n",
       "      <td>2<\/td>\n",
       "    <\/tr>\n",
       "    <tr>\n",
       "      <th>3<\/th>\n",
       "      <td>2.0<\/td>\n",
       "      <td>Red<\/td>\n",
       "      <td>Poor<\/td>\n",
       "      <td>7<\/td>\n",
       "    <\/tr>\n",
       "    <tr>\n",
       "      <th>4<\/th>\n",
       "      <td>2.1<\/td>\n",
       "      <td>Red<\/td>\n",
       "      <td>Poor<\/td>\n",
       "      <td>15<\/td>\n",
       "    <\/tr>\n",
       "  <\/tbody>\n",
       "<\/table>\n",
       "<\/div>"
      ]
     },
     "metadata":{
      
     },
     "output_type":"display_data"
    }
   ],
   "metadata":{
    "datalore":{
     "type":"CODE",
     "hide_input_from_viewers":false,
     "hide_output_from_viewers":false,
     "node_id":"b8LMXwYnH0DikLcTlW9yXq"
    }
   }
  },
  {
   "cell_type":"code",
   "source":[
    "plt.figure(figsize=(12,6))\n",
    "sns.barplot(x='Aggregate rating', y = 'Rating count', hue='Rating color',\n",
    "            data=rating, palette=['blue', 'red', 'orange', 'yellow', 'green', 'green'])\n",
    "plt.show()"
   ],
   "execution_count":100,
   "outputs":[
    {
     "data":{
      "image\/png":"[encoded data removed]"
     },
     "metadata":{
      "image\/png":{
       
      }
     },
     "output_type":"display_data"
    }
   ],
   "metadata":{
    "datalore":{
     "type":"CODE",
     "hide_input_from_viewers":false,
     "hide_output_from_viewers":false,
     "node_id":"ETZMFCaHIaMCeRQ00NZgDp"
    }
   }
  },
  {
   "cell_type":"markdown",
   "source":[
    "`observations`:\n",
    "1. Not Rated country_names is very high\n",
    "2. Maximum number of rating are from 2.5 to 3.4\n",
    "        "
   ],
   "attachments":{
    
   },
   "metadata":{
    "datalore":{
     "type":"MD",
     "hide_input_from_viewers":false,
     "hide_output_from_viewers":false,
     "node_id":"nObJTrtzCPzp0iRliPb82A"
    }
   }
  },
  {
   "cell_type":"code",
   "source":[
    "sns.countplot(x='Rating color', palette=['blue', 'red', 'orange', 'yellow', 'green', 'green'], data=rating)"
   ],
   "execution_count":102,
   "outputs":[
    {
     "data":{
      "text\/plain":[
       "<AxesSubplot:xlabel='Rating color', ylabel='count'>"
      ]
     },
     "metadata":{
      
     },
     "output_type":"display_data"
    },
    {
     "data":{
      "image\/png":"[encoded data removed]"
     },
     "metadata":{
      "image\/png":{
       
      }
     },
     "output_type":"display_data"
    }
   ],
   "metadata":{
    "datalore":{
     "type":"CODE",
     "hide_input_from_viewers":false,
     "hide_output_from_viewers":false,
     "node_id":"YPgGXSsIZhyQQLXtWaFAHQ"
    }
   }
  }
 ],
 "metadata":{
  "kernelspec":{
   "display_name":"Python",
   "language":"python",
   "name":"python"
  },
  "datalore":{
   "version":1,
   "computation_mode":"JUPYTER",
   "packages":[
    
   ]
  }
 },
 "nbformat":4,
 "nbformat_minor":4
}